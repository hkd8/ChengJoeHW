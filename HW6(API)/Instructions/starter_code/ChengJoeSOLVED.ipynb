{
 "cells": [
  {
   "cell_type": "markdown",
   "metadata": {},
   "source": [
    "# WeatherPy\n",
    "----\n",
    "\n",
    "### Analysis\n",
    "* As expected, the weather becomes significantly warmer as one approaches the equator (0 Deg. Latitude). More interestingly, however, is the fact that the southern hemisphere tends to be warmer this time of year than the northern hemisphere. This may be due to the tilt of the earth.\n",
    "* There is no strong relationship between latitude and cloudiness. However, it is interesting to see that a strong band of cities sits at 0, 80, and 100% cloudiness.\n",
    "* There is no strong relationship between latitude and wind speed. However, in northern hemispheres there is a flurry of cities with over 20 mph of wind.\n",
    "\n",
    "---\n",
    "\n",
    "#### Note\n",
    "* Instructions have been included for each segment. You do not have to follow them exactly, but they are included to help you think through the steps."
   ]
  },
  {
   "cell_type": "code",
   "execution_count": 3,
   "metadata": {
    "scrolled": true
   },
   "outputs": [],
   "source": [
    "# Dependencies and Setup\n",
    "import matplotlib.pyplot as plt\n",
    "import pandas as pd\n",
    "import numpy as np\n",
    "import requests\n",
    "import time\n",
    "\n",
    "# Import API key\n",
    "#import api_keys\n",
    "from api_keys import api_key\n",
    "\n",
    "# Incorporated citipy to determine city based on latitude and longitude\n",
    "from citipy import citipy\n",
    "\n",
    "# Output File (CSV)\n",
    "output_data_file = \"output_data/cities.csv\"\n",
    "\n",
    "# Range of latitudes and longitudes\n",
    "lat_range = (-90, 90)\n",
    "lng_range = (-180, 180)"
   ]
  },
  {
   "cell_type": "markdown",
   "metadata": {},
   "source": [
    "## Generate Cities List"
   ]
  },
  {
   "cell_type": "code",
   "execution_count": 4,
   "metadata": {},
   "outputs": [
    {
     "data": {
      "text/plain": [
       "{'coord': {'lon': -0.13, 'lat': 51.51},\n",
       " 'weather': [{'id': 804,\n",
       "   'main': 'Clouds',\n",
       "   'description': 'overcast clouds',\n",
       "   'icon': '04n'}],\n",
       " 'base': 'stations',\n",
       " 'main': {'temp': 42.67,\n",
       "  'pressure': 987,\n",
       "  'humidity': 81,\n",
       "  'temp_min': 39.99,\n",
       "  'temp_max': 45},\n",
       " 'visibility': 10000,\n",
       " 'wind': {'speed': 11.41, 'deg': 250},\n",
       " 'clouds': {'all': 88},\n",
       " 'dt': 1551928216,\n",
       " 'sys': {'type': 1,\n",
       "  'id': 1417,\n",
       "  'message': 0.0076,\n",
       "  'country': 'GB',\n",
       "  'sunrise': 1551940385,\n",
       "  'sunset': 1551981056},\n",
       " 'id': 2643743,\n",
       " 'name': 'London',\n",
       " 'cod': 200}"
      ]
     },
     "execution_count": 4,
     "metadata": {},
     "output_type": "execute_result"
    }
   ],
   "source": [
    "#Testing different URLs\n",
    "url = \"http://api.openweathermap.org/data/2.5/weather?\"\n",
    "city = \"London\"\n",
    "units = \"imperial\"\n",
    "\n",
    "#query_url = url + \"appid=\" + api_key + \"&q=\" + city + \"&units=\" + units\n",
    "query_url = f'{url}appid={api_key}&q={city}&units={units}'\n",
    "city_weather = requests.get(query_url).json()\n",
    "city_weather"
   ]
  },
  {
   "cell_type": "code",
   "execution_count": 5,
   "metadata": {},
   "outputs": [
    {
     "data": {
      "text/plain": [
       "620"
      ]
     },
     "execution_count": 5,
     "metadata": {},
     "output_type": "execute_result"
    }
   ],
   "source": [
    "# List for holding lat_lngs and cities\n",
    "lat_lngs = []\n",
    "cities = []\n",
    "\n",
    "# Create a set of random lat and lng combinations\n",
    "lats = np.random.uniform(low=-90.000, high=90.000, size=1500)\n",
    "lngs = np.random.uniform(low=-180.000, high=180.000, size=1500)\n",
    "lat_lngs = zip(lats, lngs)\n",
    "\n",
    "# Identify nearest city for each lat, lng combination\n",
    "for lat_lng in lat_lngs:\n",
    "    city = citipy.nearest_city(lat_lng[0], lat_lng[1]).city_name\n",
    "    \n",
    "    # If the city is unique, then add it to a our cities list\n",
    "    if city not in cities:\n",
    "        cities.append(city)\n",
    "\n",
    "# Print the city count to confirm sufficient count\n",
    "len(cities)"
   ]
  },
  {
   "cell_type": "markdown",
   "metadata": {},
   "source": [
    "### Perform API Calls\n",
    "* Perform a weather check on each city using a series of successive API calls.\n",
    "* Include a print log of each city as it'sbeing processed (with the city number and city name).\n"
   ]
  },
  {
   "cell_type": "code",
   "execution_count": null,
   "metadata": {},
   "outputs": [
    {
     "name": "stdout",
     "output_type": "stream",
     "text": [
      "Beginning Data Retrieval\n",
      "-------------------------------\n",
      "Processing Record 1 of Set 1 | 6201424 | Mataura\n",
      "Processing Record 2 of Set 1 | 3622854 | Miramar\n",
      "City not found. Skipping...\n",
      "Processing Record 3 of Set 1 | 3369157 | Cape Town\n",
      "Processing Record 4 of Set 1 | 4407665 | Kodiak\n",
      "Processing Record 5 of Set 1 | 556268 | Ostrovnoy\n",
      "Processing Record 6 of Set 1 | 496285 | Severodvinsk\n",
      "Processing Record 7 of Set 1 | 503977 | Marfino\n",
      "Processing Record 8 of Set 1 | 1865309 | Katsuura\n",
      "City not found. Skipping...\n",
      "Processing Record 9 of Set 1 | 3831208 | Qaanaaq\n",
      "Processing Record 10 of Set 1 | 3378644 | Georgetown\n",
      "Processing Record 11 of Set 1 | 3899695 | Ancud\n",
      "Processing Record 12 of Set 1 | 2063042 | Port Hedland\n",
      "Processing Record 13 of Set 1 | 3833859 | Barrow\n",
      "Processing Record 14 of Set 1 | 1507390 | Dikson\n",
      "City not found. Skipping...\n",
      "Processing Record 15 of Set 1 | 521118 | Nizhnekamsk\n",
      "Processing Record 16 of Set 1 | 174448 | Abu Kamal\n",
      "Processing Record 17 of Set 1 | 3347019 | Namibe\n",
      "Processing Record 18 of Set 1 | 3995647 | Moctezuma\n",
      "Processing Record 19 of Set 1 | 3896218 | Castro\n",
      "Processing Record 20 of Set 1 | 1486340 | Yarovoye\n",
      "Processing Record 21 of Set 1 | 1257588 | Salumbar\n",
      "Processing Record 22 of Set 1 | 964432 | Port Alfred\n",
      "Processing Record 23 of Set 1 | 2075265 | Busselton\n",
      "Processing Record 24 of Set 1 | 1277533 | Baloda\n",
      "Processing Record 25 of Set 1 | 5880568 | Bethel\n",
      "City not found. Skipping...\n",
      "Processing Record 26 of Set 1 | 1259385 | Port Blair\n",
      "City not found. Skipping...\n",
      "Processing Record 27 of Set 1 | 3833367 | Ushuaia\n",
      "Processing Record 28 of Set 1 | 1106677 | Bambous Virieux\n",
      "Processing Record 29 of Set 1 | 3374210 | Sao Filipe\n",
      "City not found. Skipping...\n",
      "Processing Record 30 of Set 1 | 567902 | Chkalovsk\n",
      "Processing Record 31 of Set 1 | 1503527 | Khovu-Aksy\n",
      "Processing Record 32 of Set 1 | 4030556 | Rikitea\n",
      "Processing Record 33 of Set 1 | 3437029 | San Patricio\n",
      "Processing Record 34 of Set 1 | 3588476 | Tecpan\n",
      "Processing Record 35 of Set 1 | 3394745 | Mocajuba\n",
      "Processing Record 36 of Set 1 | 2181625 | Te Anau\n",
      "Processing Record 37 of Set 1 | 3901903 | Uyuni\n",
      "Processing Record 38 of Set 1 | 4035715 | Avarua\n",
      "Processing Record 39 of Set 1 | 2022572 | Khatanga\n",
      "Processing Record 40 of Set 1 | 3386213 | Touros\n",
      "Processing Record 41 of Set 1 | 2125693 | Evensk\n",
      "Processing Record 42 of Set 1 | 5848280 | Kapaa\n",
      "Processing Record 43 of Set 1 | 2175403 | Bluff\n",
      "City not found. Skipping...\n",
      "Processing Record 44 of Set 1 | 1623251 | Gambiran\n",
      "Processing Record 45 of Set 1 | 6165406 | Thompson\n",
      "Processing Record 46 of Set 1 | 1493162 | Salym\n",
      "Processing Record 47 of Set 1 | 2641434 | Northam\n",
      "Processing Record 48 of Set 1 | 2122090 | Pevek\n",
      "Processing Record 49 of Set 1 | 2013279 | Vostok\n",
      "Processing Record 50 of Set 1 | 2172797 | Cairns\n",
      "Processing Record 0 of Set 2 | 5106834 | Albany\n",
      "Processing Record 1 of Set 2 | 2123814 | Leningradskiy\n",
      "Processing Record 2 of Set 2 | 4031574 | Provideniya\n",
      "Processing Record 3 of Set 2 | 1791464 | Wenling\n",
      "Processing Record 4 of Set 2 | 2966778 | Ballina\n",
      "City not found. Skipping...\n",
      "Processing Record 5 of Set 2 | 1273574 | Vaini\n",
      "Processing Record 6 of Set 2 | 3453439 | Ponta do Sol\n",
      "Processing Record 7 of Set 2 | 6138908 | Saint-Philippe\n",
      "Processing Record 8 of Set 2 | 1271947 | Faridpur\n",
      "City not found. Skipping...\n",
      "Processing Record 9 of Set 2 | 2028164 | Deputatskiy\n",
      "City not found. Skipping...\n",
      "Processing Record 10 of Set 2 | 2178753 | Kirakira\n",
      "Processing Record 11 of Set 2 | 3874787 | Punta Arenas\n",
      "Processing Record 12 of Set 2 | 6170031 | Tuktoyaktuk\n",
      "Processing Record 13 of Set 2 | 2013216 | Vysokogornyy\n",
      "Processing Record 14 of Set 2 | 2541479 | Nador\n",
      "Processing Record 15 of Set 2 | 3466165 | Cidreira\n"
     ]
    }
   ],
   "source": [
    "#Opening the API\n",
    "api_key = api_keys.api_key\n",
    "\n",
    "#Saving config\n",
    "url = \"http://api.openweathermap.org/data/2.5/weather?\"\n",
    "units = \"imperial\"\n",
    "\n",
    "#Building the URL \n",
    "query_url = f\"{url}appid={api_key}&units={units}&q=\"\n",
    "\n",
    "#Lists on lists\n",
    "city_name = []\n",
    "cloudiness = []\n",
    "country = []\n",
    "date = []\n",
    "humidity = []\n",
    "lat = []\n",
    "lng = []\n",
    "max_temp = []\n",
    "wind_speed = []\n",
    "\n",
    "#keep track\n",
    "record_count = 1\n",
    "set_count = 1\n",
    "\n",
    "#TEXT\n",
    "print(f\"Beginning Data Retrieval\")\n",
    "print(f\"-------------------------------\")\n",
    "\n",
    "#test_cities = [\"Pakris\", \"London\", \"Oslo\", \"Beijing\"]\n",
    "# Loop through the list of cities and perform a request for data on each\n",
    "for city in cities:\n",
    "    \n",
    "    response = requests.get(query_url + city).json()\n",
    "    #print(query_url + city)\n",
    "    # print(response)\n",
    "    try:\n",
    "        city_name.append(response[\"name\"])\n",
    "        cloudiness.append(response[\"clouds\"][\"all\"])\n",
    "        country.append(response[\"sys\"][\"country\"])\n",
    "        date.append(response[\"dt\"])\n",
    "        humidity.append(response[\"main\"][\"humidity\"])\n",
    "        lat.append(response[\"coord\"][\"lat\"])\n",
    "        lng.append(response[\"coord\"][\"lon\"])\n",
    "        max_temp.append(response[\"main\"][\"temp_max\"])\n",
    "        wind_speed.append(response[\"wind\"][\"speed\"])\n",
    "        \n",
    "        print(f\"Processing Record {record_count} of Set {set_count} | \" + str(response[\"id\"]) + \" | \" + response[\"name\"])\n",
    "        \n",
    "        #Increase counter by one until 50\n",
    "        record_count += 1\n",
    "        \n",
    "        if record_count > 50:\n",
    "            record_count = 0\n",
    "            # ncrease set count by one\n",
    "            set_count += 1\n",
    "         \n",
    "        #Waiting to not break limit\n",
    "        time.sleep(1.01)\n",
    "\n",
    "     #Skip if nothing found\n",
    "    except:\n",
    "        print(\"City not found. Skipping...\")\n",
    "    continue   \n",
    "\n",
    "print(f\"-------------------------------\")         \n",
    "print(f\"Data Retrieval Complete\")\n",
    "print(f\"-------------------------------\")"
   ]
  },
  {
   "cell_type": "code",
   "execution_count": null,
   "metadata": {},
   "outputs": [],
   "source": [
    "#NOTE THAT "
   ]
  },
  {
   "cell_type": "markdown",
   "metadata": {},
   "source": [
    "### Convert Raw Data to DataFrame\n",
    "* Export the city data into a .csv.\n",
    "* Display the DataFrame"
   ]
  },
  {
   "cell_type": "code",
   "execution_count": null,
   "metadata": {},
   "outputs": [],
   "source": [
    "#Creating a dictionary\n",
    "weatherpy_dict = {\n",
    "    \"City\": city_name,\n",
    "    \"Cloudiness\":cloudiness, \n",
    "    \"Country\":country,\n",
    "    \"Date\":date, \n",
    "    \"Humidity\": humidity,\n",
    "    \"Lat\":lat, \n",
    "    \"Lng\":lng, \n",
    "    \"Max Temp\": max_temp,\n",
    "    \"Wind Speed\":wind_speed\n",
    "}\n",
    "\n",
    "#DF from dictionary\n",
    "weather_data = pd.DataFrame(weatherpy_dict)\n",
    "\n",
    "#Count\n",
    "weather_data.count()"
   ]
  },
  {
   "cell_type": "code",
   "execution_count": null,
   "metadata": {},
   "outputs": [],
   "source": []
  },
  {
   "cell_type": "code",
   "execution_count": null,
   "metadata": {},
   "outputs": [],
   "source": [
    "#Save data frame to CSV\n",
    "weather_data.to_csv(\"./Output/weather_data.csv\")\n",
    "\n",
    "#Display data frame head \n",
    "weather_data.head()"
   ]
  },
  {
   "cell_type": "code",
   "execution_count": null,
   "metadata": {},
   "outputs": [],
   "source": []
  },
  {
   "cell_type": "markdown",
   "metadata": {},
   "source": [
    "### Plotting the Data\n",
    "* Use proper labeling of the plots using plot titles (including date of analysis) and axes labels.\n",
    "* Save the plotted figures as .pngs."
   ]
  },
  {
   "cell_type": "markdown",
   "metadata": {},
   "source": [
    "#### Latitude vs. Temperature Plot"
   ]
  },
  {
   "cell_type": "code",
   "execution_count": null,
   "metadata": {},
   "outputs": [],
   "source": [
    "#Building scatter plot\n",
    "plt.scatter(weather_data[\"Lat\"], weather_data[\"Max Temp\"], marker=\"o\", s=10)\n",
    "\n",
    "#Titles\n",
    "today = datetime.date.today()\n",
    "plt.title(f\"City Latitude vs. Max Temperature ({today:%m/%d/%y})\")\n",
    "plt.xlabel(\"Latitude\")\n",
    "plt.ylabel(\"Max Temperature (F)\")\n",
    "\n",
    "plt.grid(True)\n",
    "\n",
    "#Saved\n",
    "plt.savefig(\"./Output/Max_Temp_vs_Latitude.png\")\n",
    "\n",
    "plt.show()"
   ]
  },
  {
   "cell_type": "code",
   "execution_count": null,
   "metadata": {},
   "outputs": [],
   "source": []
  },
  {
   "cell_type": "markdown",
   "metadata": {},
   "source": [
    "#### Latitude vs. Humidity Plot"
   ]
  },
  {
   "cell_type": "code",
   "execution_count": null,
   "metadata": {},
   "outputs": [],
   "source": [
    "#Building scatter plot\n",
    "plt.scatter(weather_data[\"Lat\"], weather_data[\"Humidity\"], marker=\"o\", s=10)\n",
    "\n",
    "#titles\n",
    "today = datetime.date.today()\n",
    "plt.title(f\"City Latitude vs. Humidity ({today:%m/%d/%y})\")\n",
    "plt.xlabel(\"Latitude\")\n",
    "plt.ylabel(\"Humidity (%)\")\n",
    "\n",
    "plt.grid(True)\n",
    "\n",
    "#Save\n",
    "plt.savefig(\"./Output/City Latitude vs. Humidity.png\")\n",
    "\n",
    "plt.show()"
   ]
  },
  {
   "cell_type": "code",
   "execution_count": null,
   "metadata": {},
   "outputs": [],
   "source": []
  },
  {
   "cell_type": "markdown",
   "metadata": {},
   "source": [
    "#### Latitude vs. Cloudiness Plot"
   ]
  },
  {
   "cell_type": "code",
   "execution_count": null,
   "metadata": {},
   "outputs": [],
   "source": [
    "#Scatter\n",
    "plt.scatter(weather_data[\"Lat\"], weather_data[\"Cloudiness\"], marker=\"o\", s=10)\n",
    "\n",
    "#titles\n",
    "today = datetime.date.today()\n",
    "plt.title(f\"City Latitude vs. Cloudiness ({today:%m/%d/%y})\")\n",
    "plt.xlabel(\"Latitude\")\n",
    "plt.ylabel(\"Cloudiness (%)\")\n",
    "\n",
    "plt.grid(True)\n",
    "\n",
    "#saved\n",
    "plt.savefig(\"./Output/City Latitude vs. Cloudiness.png\")\n",
    "\n",
    "plt.show()"
   ]
  },
  {
   "cell_type": "code",
   "execution_count": null,
   "metadata": {},
   "outputs": [],
   "source": []
  },
  {
   "cell_type": "markdown",
   "metadata": {},
   "source": [
    "#### Latitude vs. Wind Speed Plot"
   ]
  },
  {
   "cell_type": "code",
   "execution_count": null,
   "metadata": {},
   "outputs": [],
   "source": [
    "#MORE SCATTERS SHEESH\n",
    "plt.scatter(weather_data[\"Lat\"], weather_data[\"Wind Speed\"], marker=\"o\", s=10)\n",
    "\n",
    "#title title title title\n",
    "today = datetime.date.today()\n",
    "plt.title(f\"City Latitude vs. Wind Speed ({today:%m/%d/%y})\")\n",
    "plt.xlabel(\"Latitude\")\n",
    "plt.ylabel(\"Wind Speed (mph)\")\n",
    "\n",
    "plt.grid(True)\n",
    "\n",
    "#savedd\n",
    "plt.savefig(\"./Output/City Latitude vs. Wind Speed.png\")\n",
    "\n",
    "plt.show()"
   ]
  },
  {
   "cell_type": "code",
   "execution_count": null,
   "metadata": {},
   "outputs": [],
   "source": []
  },
  {
   "cell_type": "code",
   "execution_count": null,
   "metadata": {},
   "outputs": [],
   "source": []
  }
 ],
 "metadata": {
  "anaconda-cloud": {},
  "kernelspec": {
   "display_name": "Python 3",
   "language": "python",
   "name": "python3"
  }
 },
 "nbformat": 4,
 "nbformat_minor": 2
}
